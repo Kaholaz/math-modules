{
 "cells": [
  {
   "cell_type": "code",
   "execution_count": 1,
   "metadata": {},
   "outputs": [],
   "source": [
    "import graph_theory\n",
    "import numpy as np\n",
    "import networkx as nx\n",
    "import matplotlib.pyplot as plt\n",
    "\n",
    "\n",
    "\"\"\"\n",
    "Alle funksjonene tar i bruk ferdige lister med ikke-isomorfe grafer.\n",
    "Disse kan man finne her: http://users.cecs.anu.edu.au/~bdm/data/graphs.html\n",
    "For å få alle dependencies kan man skrive 'pip install -r requirements.txt'\n",
    "Bruk helst et virtual enviornment.\n",
    "\"\"\"\n",
    "%matplotlib inline"
   ]
  },
  {
   "cell_type": "code",
   "execution_count": null,
   "metadata": {},
   "outputs": [],
   "source": [
    "# All non-isomorphic connected graphs with 5 nodes\n",
    "graphs = nx.read_graph6(\"graph5c.g6\")\n",
    "\n",
    "# Only bipartite graphs\n",
    "good_graphs = filter(lambda G: nx.is_bipartite(G), graphs)\n",
    "number_of_graphs = graph_theory.draw_graphs(good_graphs)\n",
    "\n",
    "\n",
    "# Draws all non-isomorphic bipartite connected graphs with 5 nodes\n",
    "print(f\"Number of graphs: {number_of_graphs}\")\n",
    "plt.show()"
   ]
  },
  {
   "cell_type": "code",
   "execution_count": null,
   "metadata": {},
   "outputs": [],
   "source": [
    "# All non-isomorphic connected graphs with 6 nodes\n",
    "graphs = nx.read_graph6(\"graph6c.g6\")\n",
    "\n",
    "# No triangles and no trees\n",
    "good_graphs = filter(lambda G: not (graph_theory.check_triangles(G) or graph_theory.check_tree(G)), graphs)\n",
    "number_of_graphs = graph_theory.draw_graphs(good_graphs)\n",
    "\n",
    "# Draws all non-isomorphic graphs with 6 nodes that does not contain triangles and are not trees.\n",
    "print(f\"Number of graphs: {number_of_graphs}\")\n",
    "plt.show()"
   ]
  },
  {
   "cell_type": "code",
   "execution_count": null,
   "metadata": {},
   "outputs": [],
   "source": [
    "# All non-isomorphic connected graphs\n",
    "graphs = nx.read_graph6(\"graph7c.g6\")\n",
    "\n",
    "# Just trees\n",
    "good_graphs = filter(lambda G: graph_theory.check_tree(G), graphs)\n",
    "number_of_graphs = graph_theory.draw_graphs(good_graphs)\n",
    "\n",
    "# Prints all non-isomorphic connected graphs that are trees.\n",
    "print(\"Number of graphs: \" + str(number_of_graphs))\n",
    "plt.show()"
   ]
  }
 ],
 "metadata": {
  "interpreter": {
   "hash": "d684eb7d3719a095c240985c18b12710889403828e20da77f24007a7ff849b3a"
  },
  "kernelspec": {
   "display_name": "Python 3.9.7 ('.venv': venv)",
   "language": "python",
   "name": "python3"
  },
  "language_info": {
   "codemirror_mode": {
    "name": "ipython",
    "version": 3
   },
   "file_extension": ".py",
   "mimetype": "text/x-python",
   "name": "python",
   "nbconvert_exporter": "python",
   "pygments_lexer": "ipython3",
   "version": "3.9.7"
  },
  "orig_nbformat": 4
 },
 "nbformat": 4,
 "nbformat_minor": 2
}
